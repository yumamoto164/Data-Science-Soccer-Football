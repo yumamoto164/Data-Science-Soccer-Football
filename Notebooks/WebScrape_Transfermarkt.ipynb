{
 "cells": [
  {
   "cell_type": "code",
   "execution_count": 77,
   "id": "2d5b5f92-9dc1-4921-9f78-adaf0a51f810",
   "metadata": {
    "tags": []
   },
   "outputs": [],
   "source": [
    "import urllib.request\n",
    "from bs4 import BeautifulSoup\n",
    "import pandas as pd"
   ]
  },
  {
   "cell_type": "code",
   "execution_count": 78,
   "id": "82ec8bb6-d05f-4920-8531-2b4fddeeca45",
   "metadata": {},
   "outputs": [],
   "source": [
    "premier_league_links = [\"https://www.transfermarkt.us/manchester-city/startseite/verein/281?saison_id=2020\",\n",
    "            \"https://www.transfermarkt.us/manchester-united/startseite/verein/985?saison_id=2020\",\n",
    "            \"https://www.transfermarkt.us/liverpool-fc/startseite/verein/31?saison_id=2020\",\n",
    "            \"https://www.transfermarkt.us/chelsea-fc/startseite/verein/631?saison_id=2020\",\n",
    "            \"https://www.transfermarkt.us/leicester-city/startseite/verein/1003?saison_id=2020\",\n",
    "            \"https://www.transfermarkt.us/west-ham-united/startseite/verein/379?saison_id=2020\",\n",
    "            \"https://www.transfermarkt.us/tottenham-hotspur/startseite/verein/148?saison_id=2020\",\n",
    "            \"https://www.transfermarkt.us/arsenal-fc/startseite/verein/11?saison_id=2020\",\n",
    "            \"https://www.transfermarkt.us/leeds-united/startseite/verein/399?saison_id=2020\",\n",
    "            \"https://www.transfermarkt.us/everton-fc/startseite/verein/29?saison_id=2020\",\n",
    "            \"https://www.transfermarkt.us/aston-villa/startseite/verein/405?saison_id=2020\",\n",
    "            \"https://www.transfermarkt.us/newcastle-united/startseite/verein/762?saison_id=2020\",\n",
    "            \"https://www.transfermarkt.us/wolverhampton-wanderers/startseite/verein/543?saison_id=2020\",\n",
    "            \"https://www.transfermarkt.us/crystal-palace/startseite/verein/873?saison_id=2020\",\n",
    "            \"https://www.transfermarkt.us/southampton-fc/startseite/verein/180?saison_id=2020\",\n",
    "            \"https://www.transfermarkt.us/brighton-amp-hove-albion/startseite/verein/1237?saison_id=2020\",\n",
    "            \"https://www.transfermarkt.us/burnley-fc/startseite/verein/1132?saison_id=2020\",\n",
    "            \"https://www.transfermarkt.us/fulham-fc/startseite/verein/931?saison_id=2020\",\n",
    "            \"https://www.transfermarkt.us/west-bromwich-albion/startseite/verein/984?saison_id=2020\",\n",
    "            \"https://www.transfermarkt.us/sheffield-united/startseite/verein/350?saison_id=2020\"]\n",
    "\n",
    "la_liga_links = [\"https://www.transfermarkt.us/atletico-de-madrid/startseite/verein/13?saison_id=2020\",\n",
    "                \"https://www.transfermarkt.us/real-madrid/startseite/verein/418?saison_id=2020\",\n",
    "                \"https://www.transfermarkt.us/fc-barcelona/startseite/verein/131?saison_id=2020\",\n",
    "                \"https://www.transfermarkt.us/sevilla-fc/startseite/verein/368?saison_id=2020\",\n",
    "                \"https://www.transfermarkt.us/real-sociedad/startseite/verein/681?saison_id=2020\",\n",
    "                \"https://www.transfermarkt.us/real-betis-balompie/startseite/verein/150?saison_id=2020\",\n",
    "                \"https://www.transfermarkt.us/villarreal-cf/startseite/verein/1050?saison_id=2020\",\n",
    "                \"https://www.transfermarkt.us/celta-de-vigo/startseite/verein/940?saison_id=2020\",\n",
    "                \"https://www.transfermarkt.us/granada-cf/startseite/verein/16795?saison_id=2020\",\n",
    "                \"https://www.transfermarkt.us/athletic-bilbao/startseite/verein/621?saison_id=2020\",\n",
    "                \"https://www.transfermarkt.us/ca-osasuna/startseite/verein/331?saison_id=2020\",\n",
    "                \"https://www.transfermarkt.us/cadiz-cf/startseite/verein/2687?saison_id=2020\",\n",
    "                \"https://www.transfermarkt.us/valencia-cf/startseite/verein/1049?saison_id=2020\",\n",
    "                \"https://www.transfermarkt.us/levante-ud/startseite/verein/3368?saison_id=2020\",\n",
    "                \"https://www.transfermarkt.us/getafe-cf/startseite/verein/3709?saison_id=2020\",\n",
    "                \"https://www.transfermarkt.us/deportivo-alaves/startseite/verein/1108?saison_id=2020\",\n",
    "                \"https://www.transfermarkt.us/elche-cf/startseite/verein/1531?saison_id=2020\",\n",
    "                \"https://www.transfermarkt.us/sd-huesca/startseite/verein/5358?saison_id=2020\",\n",
    "                \"https://www.transfermarkt.us/real-valladolid-cf/startseite/verein/366?saison_id=2020\",\n",
    "                \"https://www.transfermarkt.us/sd-eibar/startseite/verein/1533?saison_id=2020\"]\n",
    "\n",
    "serie_a_links = [\"https://www.transfermarkt.us/inter-milan/startseite/verein/46?saison_id=2020\",\n",
    "                \"https://www.transfermarkt.us/ac-milan/startseite/verein/5?saison_id=2020\",\n",
    "                \"https://www.transfermarkt.us/atalanta-bc/startseite/verein/800?saison_id=2020\",\n",
    "                \"https://www.transfermarkt.us/juventus-fc/startseite/verein/506?saison_id=2020\",\n",
    "                \"https://www.transfermarkt.us/ssc-napoli/startseite/verein/6195?saison_id=2020\",\n",
    "                \"https://www.transfermarkt.us/ss-lazio/startseite/verein/398?saison_id=2020\",\n",
    "                \"https://www.transfermarkt.us/as-roma/startseite/verein/12?saison_id=2020\",\n",
    "                \"https://www.transfermarkt.us/us-sassuolo/startseite/verein/6574?saison_id=2020\",\n",
    "                \"https://www.transfermarkt.us/uc-sampdoria/startseite/verein/1038?saison_id=2020\",\n",
    "                \"https://www.transfermarkt.us/hellas-verona/startseite/verein/276?saison_id=2020\",\n",
    "                \"https://www.transfermarkt.us/genoa-cfc/startseite/verein/252?saison_id=2020\",\n",
    "                \"https://www.transfermarkt.us/bologna-fc-1909/startseite/verein/1025?saison_id=2020\",\n",
    "                \"https://www.transfermarkt.us/acf-fiorentina/startseite/verein/430?saison_id=2020\",\n",
    "                \"https://www.transfermarkt.us/udinese-calcio/startseite/verein/410?saison_id=2020\",\n",
    "                \"https://www.transfermarkt.us/spezia-calcio/startseite/verein/3522?saison_id=2020\",\n",
    "                \"https://www.transfermarkt.us/cagliari-calcio/startseite/verein/1390?saison_id=2020\",\n",
    "                \"https://www.transfermarkt.us/torino-fc/startseite/verein/416?saison_id=2020\",\n",
    "                \"https://www.transfermarkt.us/benevento-calcio/startseite/verein/4171?saison_id=2020\",\n",
    "                \"https://www.transfermarkt.us/fc-crotone/startseite/verein/4083?saison_id=2020\",\n",
    "                \"https://www.transfermarkt.us/parma-calcio-1913/startseite/verein/130?saison_id=2020\"]\n",
    "\n",
    "bundesliga_links = [\"https://www.transfermarkt.us/bayern-munich/startseite/verein/27?saison_id=2020\",\n",
    "                \"https://www.transfermarkt.us/rb-leipzig/startseite/verein/23826?saison_id=2020\",\n",
    "                \"https://www.transfermarkt.us/borussia-dortmund/startseite/verein/16?saison_id=2020\",\n",
    "                \"https://www.transfermarkt.us/vfl-wolfsburg/startseite/verein/82?saison_id=2020\",\n",
    "                \"https://www.transfermarkt.us/eintracht-frankfurt/startseite/verein/24?saison_id=2020\",\n",
    "                \"https://www.transfermarkt.us/bayer-04-leverkusen/startseite/verein/15?saison_id=2020\",\n",
    "                \"https://www.transfermarkt.us/1-fc-union-berlin/startseite/verein/89?saison_id=2020\",\n",
    "                \"https://www.transfermarkt.us/borussia-monchengladbach/startseite/verein/18?saison_id=2020\",\n",
    "                \"https://www.transfermarkt.us/vfb-stuttgart/startseite/verein/79?saison_id=2020\",\n",
    "                \"https://www.transfermarkt.us/sc-freiburg/startseite/verein/60?saison_id=2020\",\n",
    "                \"https://www.transfermarkt.us/tsg-1899-hoffenheim/startseite/verein/533?saison_id=2020\",\n",
    "                \"https://www.transfermarkt.us/1-fsv-mainz-05/startseite/verein/39?saison_id=2020\",\n",
    "                \"https://www.transfermarkt.us/fc-augsburg/startseite/verein/167?saison_id=2020\",\n",
    "                \"https://www.transfermarkt.us/hertha-bsc/startseite/verein/44?saison_id=2020\",\n",
    "                \"https://www.transfermarkt.us/arminia-bielefeld/startseite/verein/10?saison_id=2020\",\n",
    "                \"https://www.transfermarkt.us/1-fc-koln/startseite/verein/3?saison_id=2020\",\n",
    "                \"https://www.transfermarkt.us/sv-werder-bremen/startseite/verein/86?saison_id=2020\",\n",
    "                \"https://www.transfermarkt.us/fc-schalke-04/startseite/verein/33?saison_id=2020\"]\n",
    "\n",
    "ligue_1_links = [\"https://www.transfermarkt.us/losc-lille/startseite/verein/1082?saison_id=2020\",\n",
    "                \"https://www.transfermarkt.us/paris-saint-germain/startseite/verein/583?saison_id=2020\",\n",
    "                \"https://www.transfermarkt.us/as-monaco/startseite/verein/162?saison_id=2020\",\n",
    "                \"https://www.transfermarkt.us/olympique-lyon/startseite/verein/1041?saison_id=2020\",\n",
    "                \"https://www.transfermarkt.us/olympique-marseille/startseite/verein/244?saison_id=2020\",\n",
    "                \"https://www.transfermarkt.us/stade-rennais-fc/startseite/verein/273?saison_id=2020\",\n",
    "                \"https://www.transfermarkt.us/rc-lens/startseite/verein/826?saison_id=2020\",\n",
    "                \"https://www.transfermarkt.us/montpellier-hsc/startseite/verein/969?saison_id=2020\",\n",
    "                \"https://www.transfermarkt.us/ogc-nice/startseite/verein/417?saison_id=2020\",\n",
    "                \"https://www.transfermarkt.us/fc-metz/startseite/verein/347?saison_id=2020\",\n",
    "                \"https://www.transfermarkt.us/as-saint-etienne/startseite/verein/618?saison_id=2020\",\n",
    "                \"https://www.transfermarkt.us/fc-girondins-bordeaux/startseite/verein/40?saison_id=2020\",\n",
    "                \"https://www.transfermarkt.us/sco-angers/startseite/verein/1420?saison_id=2020\",\n",
    "                \"https://www.transfermarkt.us/stade-reims/startseite/verein/1421?saison_id=2020\",\n",
    "                \"https://www.transfermarkt.us/rc-strasbourg-alsace/startseite/verein/667?saison_id=2020\",\n",
    "                \"https://www.transfermarkt.us/fc-lorient/startseite/verein/1158?saison_id=2020\",\n",
    "                \"https://www.transfermarkt.us/stade-brest-29/startseite/verein/3911?saison_id=2020\",\n",
    "                \"https://www.transfermarkt.us/fc-nantes/startseite/verein/995?saison_id=2020\",\n",
    "                \"https://www.transfermarkt.us/nimes-olympique/startseite/verein/1160?saison_id=2020\",\n",
    "                \"https://www.transfermarkt.us/dijon-fco/startseite/verein/2969?saison_id=2020\"]\n",
    "\n",
    "\n",
    "headers = {'User-Agent': 'Mozilla/5.0 (X11; Linux x86_64) AppleWebKit/537.36 (KHTML, like Gecko) Chrome/47.0.2526.106 Safari/537.36'}"
   ]
  },
  {
   "cell_type": "code",
   "execution_count": 104,
   "id": "faef098e-7cd6-46d4-beae-3993fa8699a2",
   "metadata": {},
   "outputs": [
    {
     "name": "stdout",
     "output_type": "stream",
     "text": [
      "manchester city\n",
      "manchester united\n",
      "liverpool fc\n",
      "chelsea fc\n",
      "leicester city\n",
      "west ham united\n",
      "tottenham hotspur\n",
      "arsenal fc\n",
      "leeds united\n",
      "everton fc\n",
      "aston villa\n",
      "newcastle united\n",
      "wolverhampton wanderers\n",
      "crystal palace\n",
      "southampton fc\n",
      "brighton amp hove albion\n",
      "burnley fc\n",
      "fulham fc\n",
      "west bromwich albion\n",
      "sheffield united\n"
     ]
    }
   ],
   "source": [
    "for link in premier_league_links:\n",
    "    start = len(\"https://www.transfermarkt.us/\")\n",
    "    end = link.find(\"/startseite\")\n",
    "    team_name = link[start:end]\n",
    "    team_name = team_name.replace('-', ' ')\n",
    "\n",
    "    print(team_name)"
   ]
  },
  {
   "cell_type": "code",
   "execution_count": 105,
   "id": "348a2e36-a2b8-4775-9779-0b5efc6277bf",
   "metadata": {},
   "outputs": [],
   "source": [
    "import random\n",
    "\n",
    "def hasNumbers(inputString):\n",
    "    return any(char.isdigit() for char in inputString)\n",
    "\n",
    "\n",
    "def scrape_links(links):\n",
    "    PlayersList = []\n",
    "    ValuesList = []\n",
    "    TeamsList = []\n",
    "    \n",
    "    \n",
    "    user_agent_list = [\n",
    "        'Mozilla/5.0 (iPhone; CPU iPhone OS 12_2 like Mac OS X) AppleWebKit/605.1.15 (KHTML, like Gecko) Mobile/15E148',\n",
    "        'Mozilla/5.0 (iPhone; CPU iPhone OS 12_2 like Mac OS X) AppleWebKit/605.1.15 (KHTML, like Gecko) Version/12.1 Mobile/15E148 Safari/604.1',\n",
    "        'Mozilla/5.0 (iPhone; CPU iPhone OS 12_1_4 like Mac OS X) AppleWebKit/605.1.15 (KHTML, like Gecko) Mobile/16D57',\n",
    "        'Mozilla/5.0 (iPhone; CPU iPhone OS 13_3_1 like Mac OS X) AppleWebKit/605.1.15 (KHTML, like Gecko) Version/13.0.5 Mobile/15E148 Safari/604.1',\n",
    "        'Mozilla/5.0 (iPhone; CPU iPhone OS 13_3 like Mac OS X) AppleWebKit/605.1.15 (KHTML, like Gecko) Version/13.0.4 Mobile/15E148 Safari/604.1',\n",
    "        'Mozilla/5.0 (iPhone; CPU iPhone OS 12_3 like Mac OS X) AppleWebKit/605.1.15 (KHTML, like Gecko) Mobile/15E148',\n",
    "        'Nokia7610/2.0 (5.0509.0) SymbianOS/7.0s Series60/2.1 Profile/MIDP-2.0 Configuration/CLDC-1.0',\n",
    "        'Mozilla/5.0 (Series40; Nokia200/11.64; Profile/MIDP-2.1 Configuration/CLDC-1.1) Gecko/20100401 S40OviBrowser/2.0.2.68.14',\n",
    "        'Mozilla/5.0 (Series40; Nokia200/11.56; Profile/MIDP-2.1 Configuration/CLDC-1.1) Gecko/20100401 S40OviBrowser/2.0.1.62.6',\n",
    "        'Mozilla/5.0 (iPhone; CPU iPhone OS 13_3_1 like Mac OS X) AppleWebKit/605.1.15 (KHTML, like Gecko) Mobile/15E148 [FBAN/FBIOS;FBDV/iPhone10,1;FBMD/iPhone;FBSN/iOS;FBSV/13.3.1;FBSS/2;FBID/phone;FBLC/en_US;FBOP/5;FBCR/Verizon]'\n",
    "    ]\n",
    "    \n",
    "    for link in links:\n",
    "        team_players = []\n",
    "        team_values = []\n",
    "        \n",
    "        start = len(\"https://www.transfermarkt.us/\")\n",
    "        end = link.find(\"/startseite\")\n",
    "        team_name = link[start:end]\n",
    "        team_name = team_name.replace('-', ' ')\n",
    "        \n",
    "        user_agent = random.choice(user_agent_list)\n",
    "        headers = {'User-Agent': user_agent}\n",
    "\n",
    "        req = urllib.request.Request(url=link, headers=headers)\n",
    "        with urllib.request.urlopen(req) as response:\n",
    "            page_html = response.read()\n",
    "\n",
    "        # Create beautiful soup object from HTML\n",
    "        soup = BeautifulSoup(page_html, 'html.parser')\n",
    "\n",
    "        players = soup.find_all(\"a\", {\"class\": \"spielprofil_tooltip\"})\n",
    "        for player in players:\n",
    "            player_name = player.get(\"title\")\n",
    "            if player_name not in team_players:\n",
    "                team_players.append(player_name)\n",
    "                PlayersList.append(player_name)\n",
    "                TeamsList.append(team_name)\n",
    "\n",
    "        values = soup.find_all(\"td\", {\"class\": \"rechts hauptlink\"})\n",
    "        for i in range(len(values)):\n",
    "            value = values[i].text\n",
    "            if hasNumbers(value) == True:\n",
    "                ValuesList.append(value)\n",
    "                team_values.append(value)\n",
    "\n",
    "            else:\n",
    "                ValuesList.append('0')\n",
    "                team_values.append('0')\n",
    "\n",
    "        print(\"num players: \", len(team_players), \"  num values: \", len(team_values))\n",
    "        \n",
    "                \n",
    "    print(len(PlayersList))\n",
    "    print(len(ValuesList))\n",
    "                \n",
    "    df = pd.DataFrame({'Players': PlayersList, \"Values\": ValuesList, \"Team\": TeamsList})\n",
    "    return df"
   ]
  },
  {
   "cell_type": "code",
   "execution_count": 111,
   "id": "bf3d9eae-9b4a-4fb5-877b-af0ac7cca015",
   "metadata": {},
   "outputs": [],
   "source": [
    "# One by one for la liga and serie a links\n",
    "def scrape_link(link, PlayersList, ValuesList, TeamsList):\n",
    "#     headers = {\n",
    "#     \"Accept\": \"text/html,application/xhtml+xml,application/xml;q=0.9,image/webp,image/apng,*/*;q=0.8,application/signed-exchange;v=b3;q=0.9\", \n",
    "#     \"Accept-Encoding\": \"gzip, deflate\", \n",
    "#     \"Accept-Language\": \"en-GB,en-US;q=0.9,en;q=0.8\", \n",
    "#     \"Dnt\": \"1\", \n",
    "#     \"Host\": \"httpbin.org\", \n",
    "#     \"Upgrade-Insecure-Requests\": \"1\", \n",
    "#     \"User-Agent\": \"Mozilla/5.0 (Macintosh; Intel Mac OS X 10_15_4) AppleWebKit/537.36 (KHTML, like Gecko) Chrome/83.0.4103.97 Safari/537.36\", \n",
    "#     }\n",
    "    \n",
    "    start = len(\"https://www.transfermarkt.us/\")\n",
    "    end = link.find(\"/startseite\")\n",
    "    team_name = link[start:end]\n",
    "    team_name = team_name.replace('-', ' ')\n",
    "    \n",
    "    user_agent_list = [\n",
    "        'Mozilla/5.0 (iPhone; CPU iPhone OS 12_2 like Mac OS X) AppleWebKit/605.1.15 (KHTML, like Gecko) Mobile/15E148',\n",
    "        'Mozilla/5.0 (iPhone; CPU iPhone OS 12_2 like Mac OS X) AppleWebKit/605.1.15 (KHTML, like Gecko) Version/12.1 Mobile/15E148 Safari/604.1',\n",
    "        'Mozilla/5.0 (iPhone; CPU iPhone OS 12_1_4 like Mac OS X) AppleWebKit/605.1.15 (KHTML, like Gecko) Mobile/16D57',\n",
    "        'Mozilla/5.0 (iPhone; CPU iPhone OS 13_3_1 like Mac OS X) AppleWebKit/605.1.15 (KHTML, like Gecko) Version/13.0.5 Mobile/15E148 Safari/604.1',\n",
    "        'Mozilla/5.0 (iPhone; CPU iPhone OS 13_3 like Mac OS X) AppleWebKit/605.1.15 (KHTML, like Gecko) Version/13.0.4 Mobile/15E148 Safari/604.1',\n",
    "        'Mozilla/5.0 (iPhone; CPU iPhone OS 12_3 like Mac OS X) AppleWebKit/605.1.15 (KHTML, like Gecko) Mobile/15E148',\n",
    "        'Nokia7610/2.0 (5.0509.0) SymbianOS/7.0s Series60/2.1 Profile/MIDP-2.0 Configuration/CLDC-1.0',\n",
    "        'Mozilla/5.0 (Series40; Nokia200/11.64; Profile/MIDP-2.1 Configuration/CLDC-1.1) Gecko/20100401 S40OviBrowser/2.0.2.68.14',\n",
    "        'Mozilla/5.0 (Series40; Nokia200/11.56; Profile/MIDP-2.1 Configuration/CLDC-1.1) Gecko/20100401 S40OviBrowser/2.0.1.62.6',\n",
    "        'Mozilla/5.0 (iPhone; CPU iPhone OS 13_3_1 like Mac OS X) AppleWebKit/605.1.15 (KHTML, like Gecko) Mobile/15E148 [FBAN/FBIOS;FBDV/iPhone10,1;FBMD/iPhone;FBSN/iOS;FBSV/13.3.1;FBSS/2;FBID/phone;FBLC/en_US;FBOP/5;FBCR/Verizon]'\n",
    "    ]\n",
    "    \n",
    "    team_players = []\n",
    "    team_values = []\n",
    "        \n",
    "\n",
    "    user_agent = random.choice(user_agent_list)\n",
    "    headers = {'User-Agent': user_agent}\n",
    "\n",
    "    req = urllib.request.Request(url=link, headers=headers)\n",
    "    with urllib.request.urlopen(req) as response:\n",
    "        page_html = response.read()\n",
    "\n",
    "    # Create beautiful soup object from HTML\n",
    "    soup = BeautifulSoup(page_html, 'html.parser')\n",
    "\n",
    "    players = soup.find_all(\"a\", {\"class\": \"spielprofil_tooltip\"})\n",
    "    for player in players:\n",
    "        player_name = player.get(\"title\")\n",
    "        if player_name not in team_players:\n",
    "            team_players.append(player_name)\n",
    "            PlayersList.append(player_name)\n",
    "            TeamsList.append(team_name)\n",
    "\n",
    "    values = soup.find_all(\"td\", {\"class\": \"rechts hauptlink\"})\n",
    "    for i in range(len(values)):\n",
    "        value = values[i].text\n",
    "        if hasNumbers(value) == True:\n",
    "            ValuesList.append(value)\n",
    "            team_values.append(value)\n",
    "\n",
    "        else:\n",
    "            ValuesList.append('0')\n",
    "            team_values.append('0')\n",
    "\n",
    "    print(\"num players: \", len(team_players), \"  num values: \", len(team_values))\n",
    "        \n",
    "                \n",
    "    print(len(PlayersList))\n",
    "    print(len(ValuesList))\n",
    "    print(len(TeamsList))\n",
    "                \n",
    "#     df = pd.DataFrame({'Players': PlayersList, \"Values\": ValuesList})\n",
    "#     return df\n",
    "    return PlayersList, ValuesList, TeamsList"
   ]
  },
  {
   "cell_type": "code",
   "execution_count": 106,
   "id": "5e2b9015-a248-4a8c-b3f3-60b7a07c98e8",
   "metadata": {},
   "outputs": [
    {
     "name": "stdout",
     "output_type": "stream",
     "text": [
      "num players:  36   num values:  36\n",
      "num players:  39   num values:  39\n",
      "num players:  43   num values:  43\n",
      "num players:  39   num values:  39\n",
      "num players:  40   num values:  40\n",
      "num players:  39   num values:  39\n",
      "num players:  41   num values:  41\n",
      "num players:  42   num values:  42\n",
      "num players:  39   num values:  39\n",
      "num players:  44   num values:  44\n",
      "num players:  53   num values:  53\n",
      "num players:  33   num values:  33\n",
      "num players:  38   num values:  38\n",
      "num players:  36   num values:  36\n",
      "num players:  39   num values:  39\n",
      "num players:  46   num values:  46\n",
      "num players:  32   num values:  32\n",
      "num players:  38   num values:  38\n",
      "num players:  43   num values:  43\n",
      "num players:  40   num values:  40\n",
      "800\n",
      "800\n"
     ]
    }
   ],
   "source": [
    "premier_league_df = scrape_links(premier_league_links)"
   ]
  },
  {
   "cell_type": "code",
   "execution_count": 112,
   "id": "7f5489bd-b58f-454a-ab92-0144a7af56d1",
   "metadata": {},
   "outputs": [
    {
     "name": "stdout",
     "output_type": "stream",
     "text": [
      "num players:  39   num values:  39\n",
      "39\n",
      "39\n",
      "39\n"
     ]
    }
   ],
   "source": [
    "la_liga_player_list = []\n",
    "la_liga_value_list = []\n",
    "la_liga_teams_list = []\n",
    "\n",
    "la_liga_player_list, la_liga_value_list, la_liga_teams_list = scrape_link(la_liga_links[0], la_liga_player_list, la_liga_value_list, la_liga_teams_list)"
   ]
  },
  {
   "cell_type": "code",
   "execution_count": 113,
   "id": "bcac33e1-2ed4-4868-8af8-78191cdb1ced",
   "metadata": {},
   "outputs": [
    {
     "name": "stdout",
     "output_type": "stream",
     "text": [
      "num players:  37   num values:  37\n",
      "76\n",
      "76\n",
      "76\n"
     ]
    }
   ],
   "source": [
    "la_liga_player_list, la_liga_value_list, la_liga_teams_list = scrape_link(la_liga_links[1], la_liga_player_list, la_liga_value_list, la_liga_teams_list)"
   ]
  },
  {
   "cell_type": "code",
   "execution_count": 114,
   "id": "115fddbb-6a2c-477f-a20c-4519e46cd690",
   "metadata": {},
   "outputs": [
    {
     "name": "stdout",
     "output_type": "stream",
     "text": [
      "num players:  33   num values:  33\n",
      "109\n",
      "109\n",
      "109\n"
     ]
    }
   ],
   "source": [
    "la_liga_player_list, la_liga_value_list, la_liga_teams_list = scrape_link(la_liga_links[2], la_liga_player_list, la_liga_value_list, la_liga_teams_list)"
   ]
  },
  {
   "cell_type": "code",
   "execution_count": 115,
   "id": "561e5ba2-beed-4e0f-9df1-1d129e8e5656",
   "metadata": {},
   "outputs": [
    {
     "name": "stdout",
     "output_type": "stream",
     "text": [
      "num players:  38   num values:  38\n",
      "147\n",
      "147\n",
      "147\n"
     ]
    }
   ],
   "source": [
    "la_liga_player_list, la_liga_value_list, la_liga_teams_list = scrape_link(la_liga_links[3], la_liga_player_list, la_liga_value_list, la_liga_teams_list)"
   ]
  },
  {
   "cell_type": "code",
   "execution_count": 116,
   "id": "8fdbc605-2695-4e66-a700-cb54d5903f16",
   "metadata": {},
   "outputs": [
    {
     "name": "stdout",
     "output_type": "stream",
     "text": [
      "num players:  38   num values:  38\n",
      "185\n",
      "185\n",
      "185\n"
     ]
    }
   ],
   "source": [
    "la_liga_player_list, la_liga_value_list, la_liga_teams_list = scrape_link(la_liga_links[4], la_liga_player_list, la_liga_value_list, la_liga_teams_list)"
   ]
  },
  {
   "cell_type": "code",
   "execution_count": 117,
   "id": "d1ac00c5-5c0a-4203-817d-c151a7a2b02b",
   "metadata": {},
   "outputs": [
    {
     "name": "stdout",
     "output_type": "stream",
     "text": [
      "num players:  33   num values:  33\n",
      "218\n",
      "218\n",
      "218\n"
     ]
    }
   ],
   "source": [
    "la_liga_player_list, la_liga_value_list, la_liga_teams_list = scrape_link(la_liga_links[5], la_liga_player_list, la_liga_value_list, la_liga_teams_list)"
   ]
  },
  {
   "cell_type": "code",
   "execution_count": 118,
   "id": "1678307a-d6e0-4267-9045-a59605290403",
   "metadata": {},
   "outputs": [
    {
     "name": "stdout",
     "output_type": "stream",
     "text": [
      "num players:  36   num values:  36\n",
      "254\n",
      "254\n",
      "254\n"
     ]
    }
   ],
   "source": [
    "la_liga_player_list, la_liga_value_list, la_liga_teams_list = scrape_link(la_liga_links[6], la_liga_player_list, la_liga_value_list, la_liga_teams_list)"
   ]
  },
  {
   "cell_type": "code",
   "execution_count": 119,
   "id": "d8a68f31-960e-41a3-8e41-694b8e91bf14",
   "metadata": {},
   "outputs": [
    {
     "name": "stdout",
     "output_type": "stream",
     "text": [
      "num players:  41   num values:  41\n",
      "295\n",
      "295\n",
      "295\n"
     ]
    }
   ],
   "source": [
    "la_liga_player_list, la_liga_value_list, la_liga_teams_list = scrape_link(la_liga_links[7], la_liga_player_list, la_liga_value_list, la_liga_teams_list)"
   ]
  },
  {
   "cell_type": "code",
   "execution_count": 120,
   "id": "9d92efe3-4b43-430f-ac92-cb1135a9c9c5",
   "metadata": {},
   "outputs": [
    {
     "name": "stdout",
     "output_type": "stream",
     "text": [
      "num players:  44   num values:  44\n",
      "339\n",
      "339\n",
      "339\n"
     ]
    }
   ],
   "source": [
    "la_liga_player_list, la_liga_value_list, la_liga_teams_list = scrape_link(la_liga_links[8], la_liga_player_list, la_liga_value_list, la_liga_teams_list)"
   ]
  },
  {
   "cell_type": "code",
   "execution_count": 121,
   "id": "6426b6ba-1a65-4848-94ef-b0994a9428ba",
   "metadata": {},
   "outputs": [
    {
     "name": "stdout",
     "output_type": "stream",
     "text": [
      "num players:  32   num values:  32\n",
      "371\n",
      "371\n",
      "371\n"
     ]
    }
   ],
   "source": [
    "la_liga_player_list, la_liga_value_list, la_liga_teams_list = scrape_link(la_liga_links[9], la_liga_player_list, la_liga_value_list, la_liga_teams_list)"
   ]
  },
  {
   "cell_type": "code",
   "execution_count": 122,
   "id": "f57b764f-ede5-4326-b63c-62b0e4984593",
   "metadata": {},
   "outputs": [
    {
     "name": "stdout",
     "output_type": "stream",
     "text": [
      "num players:  36   num values:  36\n",
      "407\n",
      "407\n",
      "407\n"
     ]
    }
   ],
   "source": [
    "la_liga_player_list, la_liga_value_list, la_liga_teams_list = scrape_link(la_liga_links[10], la_liga_player_list, la_liga_value_list, la_liga_teams_list)"
   ]
  },
  {
   "cell_type": "code",
   "execution_count": 123,
   "id": "945043a3-5060-4006-9f66-ef464b63104c",
   "metadata": {},
   "outputs": [
    {
     "name": "stdout",
     "output_type": "stream",
     "text": [
      "num players:  41   num values:  41\n",
      "448\n",
      "448\n",
      "448\n"
     ]
    }
   ],
   "source": [
    "la_liga_player_list, la_liga_value_list, la_liga_teams_list = scrape_link(la_liga_links[11], la_liga_player_list, la_liga_value_list, la_liga_teams_list)"
   ]
  },
  {
   "cell_type": "code",
   "execution_count": 124,
   "id": "8f65ee8b-e4c1-4802-83dd-c104b1a299de",
   "metadata": {},
   "outputs": [
    {
     "name": "stdout",
     "output_type": "stream",
     "text": [
      "num players:  35   num values:  35\n",
      "483\n",
      "483\n",
      "483\n"
     ]
    }
   ],
   "source": [
    "la_liga_player_list, la_liga_value_list, la_liga_teams_list = scrape_link(la_liga_links[12], la_liga_player_list, la_liga_value_list, la_liga_teams_list)"
   ]
  },
  {
   "cell_type": "code",
   "execution_count": 125,
   "id": "ba9c8637-6aec-4b4c-b10e-0b13352c6d8f",
   "metadata": {},
   "outputs": [
    {
     "name": "stdout",
     "output_type": "stream",
     "text": [
      "num players:  34   num values:  34\n",
      "517\n",
      "517\n",
      "517\n"
     ]
    }
   ],
   "source": [
    "la_liga_player_list, la_liga_value_list, la_liga_teams_list = scrape_link(la_liga_links[13], la_liga_player_list, la_liga_value_list, la_liga_teams_list)"
   ]
  },
  {
   "cell_type": "code",
   "execution_count": 126,
   "id": "b9e32baf-78cf-4a5a-a420-f83e1d925e0d",
   "metadata": {},
   "outputs": [
    {
     "name": "stdout",
     "output_type": "stream",
     "text": [
      "num players:  33   num values:  33\n",
      "550\n",
      "550\n",
      "550\n"
     ]
    }
   ],
   "source": [
    "la_liga_player_list, la_liga_value_list, la_liga_teams_list = scrape_link(la_liga_links[14], la_liga_player_list, la_liga_value_list, la_liga_teams_list)"
   ]
  },
  {
   "cell_type": "code",
   "execution_count": 127,
   "id": "aa089630-ca21-4caa-8f5f-356986953ffc",
   "metadata": {},
   "outputs": [
    {
     "name": "stdout",
     "output_type": "stream",
     "text": [
      "num players:  35   num values:  35\n",
      "585\n",
      "585\n",
      "585\n"
     ]
    }
   ],
   "source": [
    "la_liga_player_list, la_liga_value_list, la_liga_teams_list = scrape_link(la_liga_links[15], la_liga_player_list, la_liga_value_list, la_liga_teams_list)"
   ]
  },
  {
   "cell_type": "code",
   "execution_count": 128,
   "id": "e88fd371-facd-4e7a-b316-6a7f986cf56a",
   "metadata": {},
   "outputs": [
    {
     "name": "stdout",
     "output_type": "stream",
     "text": [
      "num players:  41   num values:  42\n",
      "626\n",
      "627\n",
      "626\n"
     ]
    }
   ],
   "source": [
    "la_liga_player_list, la_liga_value_list, la_liga_teams_list = scrape_link(la_liga_links[16], la_liga_player_list, la_liga_value_list, la_liga_teams_list)"
   ]
  },
  {
   "cell_type": "code",
   "execution_count": 143,
   "id": "8169a66b-e0ee-4ddf-83c1-293c1f758d53",
   "metadata": {},
   "outputs": [
    {
     "name": "stdout",
     "output_type": "stream",
     "text": [
      "0\n",
      "Youssouf Koné $1.76m  \n",
      "626 626 626\n"
     ]
    }
   ],
   "source": [
    "dropped_value = la_liga_value_list.pop(-27)\n",
    "print(dropped_value)\n",
    "print(la_liga_player_list[-27], la_liga_value_list[-27])\n",
    "print(len(la_liga_player_list), len(la_liga_value_list), len(la_liga_teams_list))"
   ]
  },
  {
   "cell_type": "code",
   "execution_count": 145,
   "id": "e524b5b0-2a4f-46d6-906f-0db35cc86109",
   "metadata": {},
   "outputs": [
    {
     "name": "stdout",
     "output_type": "stream",
     "text": [
      "Helibelton Palacios $1.10m  \n"
     ]
    }
   ],
   "source": [
    "print(la_liga_player_list[-26], la_liga_value_list[-26])"
   ]
  },
  {
   "cell_type": "code",
   "execution_count": 146,
   "id": "5b3ec4e5-31f9-46e6-b6aa-a6e7b74b1c02",
   "metadata": {},
   "outputs": [
    {
     "name": "stdout",
     "output_type": "stream",
     "text": [
      "num players:  34   num values:  34\n",
      "660\n",
      "660\n",
      "660\n"
     ]
    }
   ],
   "source": [
    "la_liga_player_list, la_liga_value_list, la_liga_teams_list = scrape_link(la_liga_links[17], la_liga_player_list, la_liga_value_list, la_liga_teams_list)"
   ]
  },
  {
   "cell_type": "code",
   "execution_count": 147,
   "id": "8d4b9202-3151-4e6c-80c2-b97053e811e6",
   "metadata": {},
   "outputs": [
    {
     "name": "stdout",
     "output_type": "stream",
     "text": [
      "num players:  39   num values:  39\n",
      "699\n",
      "699\n",
      "699\n"
     ]
    }
   ],
   "source": [
    "la_liga_player_list, la_liga_value_list, la_liga_teams_list = scrape_link(la_liga_links[18], la_liga_player_list, la_liga_value_list, la_liga_teams_list)"
   ]
  },
  {
   "cell_type": "code",
   "execution_count": 148,
   "id": "68025d7d-ba65-4791-be8e-8db01cd108d2",
   "metadata": {},
   "outputs": [
    {
     "name": "stdout",
     "output_type": "stream",
     "text": [
      "num players:  34   num values:  34\n",
      "733\n",
      "733\n",
      "733\n"
     ]
    }
   ],
   "source": [
    "la_liga_player_list, la_liga_value_list, la_liga_teams_list = scrape_link(la_liga_links[19], la_liga_player_list, la_liga_value_list, la_liga_teams_list)"
   ]
  },
  {
   "cell_type": "code",
   "execution_count": 151,
   "id": "8ee63353-ed67-4bbe-93a1-150d597366df",
   "metadata": {},
   "outputs": [],
   "source": [
    "la_liga_df = pd.DataFrame({'Players': la_liga_player_list, \"Values\": la_liga_value_list, \"Team\": la_liga_teams_list})\n",
    "la_liga_df.to_csv('la_liga_market_value.csv')"
   ]
  },
  {
   "cell_type": "code",
   "execution_count": 108,
   "id": "8640adce-51af-45ff-b5c7-7008b2a8b8aa",
   "metadata": {},
   "outputs": [
    {
     "name": "stdout",
     "output_type": "stream",
     "text": [
      "num players:  45   num values:  45\n",
      "num players:  32   num values:  32\n",
      "num players:  32   num values:  32\n",
      "num players:  30   num values:  30\n",
      "num players:  36   num values:  36\n",
      "num players:  33   num values:  33\n",
      "num players:  33   num values:  33\n",
      "num players:  33   num values:  33\n",
      "num players:  32   num values:  32\n",
      "num players:  30   num values:  30\n",
      "num players:  37   num values:  37\n",
      "num players:  36   num values:  36\n",
      "num players:  31   num values:  31\n",
      "num players:  38   num values:  38\n",
      "num players:  33   num values:  33\n",
      "num players:  36   num values:  36\n",
      "num players:  33   num values:  33\n",
      "num players:  45   num values:  45\n",
      "625\n",
      "625\n"
     ]
    }
   ],
   "source": [
    "bundesliga_df = scrape_links(bundesliga_links)"
   ]
  },
  {
   "cell_type": "code",
   "execution_count": 152,
   "id": "d8cfbaa9-2aaf-4930-a7b6-82f5d35fc66e",
   "metadata": {},
   "outputs": [
    {
     "name": "stdout",
     "output_type": "stream",
     "text": [
      "num players:  36   num values:  36\n",
      "36\n",
      "36\n",
      "36\n"
     ]
    }
   ],
   "source": [
    "serie_a_player_list = []\n",
    "serie_a_value_list = []\n",
    "serie_a_teams_list = []\n",
    "\n",
    "serie_a_player_list, serie_a_value_list, serie_a_teams_list = scrape_link(serie_a_links[0], serie_a_player_list, serie_a_value_list, serie_a_teams_list)"
   ]
  },
  {
   "cell_type": "code",
   "execution_count": 153,
   "id": "76924c94-c6d1-4f45-9f59-08eb3c107941",
   "metadata": {},
   "outputs": [
    {
     "name": "stdout",
     "output_type": "stream",
     "text": [
      "num players:  42   num values:  42\n",
      "78\n",
      "78\n",
      "78\n"
     ]
    }
   ],
   "source": [
    "serie_a_player_list, serie_a_value_list, serie_a_teams_list = scrape_link(serie_a_links[1], serie_a_player_list, serie_a_value_list, serie_a_teams_list)"
   ]
  },
  {
   "cell_type": "code",
   "execution_count": 154,
   "id": "93013416-dd17-42b3-b862-06a71b39dc3f",
   "metadata": {},
   "outputs": [
    {
     "name": "stdout",
     "output_type": "stream",
     "text": [
      "num players:  39   num values:  39\n",
      "117\n",
      "117\n",
      "117\n"
     ]
    }
   ],
   "source": [
    "serie_a_player_list, serie_a_value_list, serie_a_teams_list = scrape_link(serie_a_links[2], serie_a_player_list, serie_a_value_list, serie_a_teams_list)"
   ]
  },
  {
   "cell_type": "code",
   "execution_count": 155,
   "id": "1ab61deb-1662-4ec2-b79d-da6ab972fc6e",
   "metadata": {},
   "outputs": [
    {
     "name": "stdout",
     "output_type": "stream",
     "text": [
      "num players:  45   num values:  45\n",
      "162\n",
      "162\n",
      "162\n"
     ]
    }
   ],
   "source": [
    "serie_a_player_list, serie_a_value_list, serie_a_teams_list = scrape_link(serie_a_links[3], serie_a_player_list, serie_a_value_list, serie_a_teams_list)"
   ]
  },
  {
   "cell_type": "code",
   "execution_count": 156,
   "id": "986de795-0bd6-4df4-ac74-0b3f80dc00bc",
   "metadata": {},
   "outputs": [
    {
     "name": "stdout",
     "output_type": "stream",
     "text": [
      "num players:  32   num values:  32\n",
      "194\n",
      "194\n",
      "194\n"
     ]
    }
   ],
   "source": [
    "serie_a_player_list, serie_a_value_list, serie_a_teams_list = scrape_link(serie_a_links[4], serie_a_player_list, serie_a_value_list, serie_a_teams_list)"
   ]
  },
  {
   "cell_type": "code",
   "execution_count": 157,
   "id": "ebae28d4-28a5-41a5-8cdf-86a864c48d36",
   "metadata": {},
   "outputs": [
    {
     "name": "stdout",
     "output_type": "stream",
     "text": [
      "num players:  44   num values:  44\n",
      "238\n",
      "238\n",
      "238\n"
     ]
    }
   ],
   "source": [
    "serie_a_player_list, serie_a_value_list, serie_a_teams_list = scrape_link(serie_a_links[5], serie_a_player_list, serie_a_value_list, serie_a_teams_list)"
   ]
  },
  {
   "cell_type": "code",
   "execution_count": 158,
   "id": "0ece9c48-b019-4d84-8b7a-b6b0f28d3c0b",
   "metadata": {},
   "outputs": [
    {
     "name": "stdout",
     "output_type": "stream",
     "text": [
      "num players:  46   num values:  46\n",
      "284\n",
      "284\n",
      "284\n"
     ]
    }
   ],
   "source": [
    "serie_a_player_list, serie_a_value_list, serie_a_teams_list = scrape_link(serie_a_links[6], serie_a_player_list, serie_a_value_list, serie_a_teams_list)"
   ]
  },
  {
   "cell_type": "code",
   "execution_count": 159,
   "id": "ad302cfc-5db9-47c1-a5cd-003e334cb6e0",
   "metadata": {},
   "outputs": [
    {
     "name": "stdout",
     "output_type": "stream",
     "text": [
      "num players:  39   num values:  39\n",
      "323\n",
      "323\n",
      "323\n"
     ]
    }
   ],
   "source": [
    "serie_a_player_list, serie_a_value_list, serie_a_teams_list = scrape_link(serie_a_links[7], serie_a_player_list, serie_a_value_list, serie_a_teams_list)"
   ]
  },
  {
   "cell_type": "code",
   "execution_count": 160,
   "id": "a8ec4c9f-285e-4389-a466-26572ca0251c",
   "metadata": {},
   "outputs": [
    {
     "name": "stdout",
     "output_type": "stream",
     "text": [
      "num players:  34   num values:  34\n",
      "357\n",
      "357\n",
      "357\n"
     ]
    }
   ],
   "source": [
    "serie_a_player_list, serie_a_value_list, serie_a_teams_list = scrape_link(serie_a_links[8], serie_a_player_list, serie_a_value_list, serie_a_teams_list)"
   ]
  },
  {
   "cell_type": "code",
   "execution_count": 161,
   "id": "ed45407b-ac48-49a3-b8f2-7bf9b13af2ab",
   "metadata": {},
   "outputs": [
    {
     "name": "stdout",
     "output_type": "stream",
     "text": [
      "num players:  46   num values:  46\n",
      "403\n",
      "403\n",
      "403\n"
     ]
    }
   ],
   "source": [
    "serie_a_player_list, serie_a_value_list, serie_a_teams_list = scrape_link(serie_a_links[9], serie_a_player_list, serie_a_value_list, serie_a_teams_list)"
   ]
  },
  {
   "cell_type": "code",
   "execution_count": 162,
   "id": "43749794-da21-4498-9214-a345b66dce9f",
   "metadata": {},
   "outputs": [
    {
     "name": "stdout",
     "output_type": "stream",
     "text": [
      "num players:  44   num values:  44\n",
      "447\n",
      "447\n",
      "447\n"
     ]
    }
   ],
   "source": [
    "serie_a_player_list, serie_a_value_list, serie_a_teams_list = scrape_link(serie_a_links[10], serie_a_player_list, serie_a_value_list, serie_a_teams_list)"
   ]
  },
  {
   "cell_type": "code",
   "execution_count": 163,
   "id": "4db3735e-b233-4283-80f4-a584778e1cb8",
   "metadata": {},
   "outputs": [
    {
     "name": "stdout",
     "output_type": "stream",
     "text": [
      "num players:  45   num values:  45\n",
      "492\n",
      "492\n",
      "492\n"
     ]
    }
   ],
   "source": [
    "serie_a_player_list, serie_a_value_list, serie_a_teams_list = scrape_link(serie_a_links[11], serie_a_player_list, serie_a_value_list, serie_a_teams_list)"
   ]
  },
  {
   "cell_type": "code",
   "execution_count": 164,
   "id": "d8370958-f3a3-4020-b3fe-62c2d8f18c76",
   "metadata": {},
   "outputs": [
    {
     "name": "stdout",
     "output_type": "stream",
     "text": [
      "num players:  41   num values:  41\n",
      "533\n",
      "533\n",
      "533\n"
     ]
    }
   ],
   "source": [
    "serie_a_player_list, serie_a_value_list, serie_a_teams_list = scrape_link(serie_a_links[12], serie_a_player_list, serie_a_value_list, serie_a_teams_list)"
   ]
  },
  {
   "cell_type": "code",
   "execution_count": 165,
   "id": "f67f5b91-4cce-45c9-ab40-0af0a86deca7",
   "metadata": {},
   "outputs": [
    {
     "name": "stdout",
     "output_type": "stream",
     "text": [
      "num players:  42   num values:  42\n",
      "575\n",
      "575\n",
      "575\n"
     ]
    }
   ],
   "source": [
    "serie_a_player_list, serie_a_value_list, serie_a_teams_list = scrape_link(serie_a_links[13], serie_a_player_list, serie_a_value_list, serie_a_teams_list)"
   ]
  },
  {
   "cell_type": "code",
   "execution_count": 166,
   "id": "1e00f2de-70df-41e3-bea8-d36df2db14b2",
   "metadata": {},
   "outputs": [
    {
     "name": "stdout",
     "output_type": "stream",
     "text": [
      "num players:  39   num values:  39\n",
      "614\n",
      "614\n",
      "614\n"
     ]
    }
   ],
   "source": [
    "serie_a_player_list, serie_a_value_list, serie_a_teams_list = scrape_link(serie_a_links[14], serie_a_player_list, serie_a_value_list, serie_a_teams_list)"
   ]
  },
  {
   "cell_type": "code",
   "execution_count": 167,
   "id": "8dbda535-aa54-4627-817f-0f83e5274ce7",
   "metadata": {},
   "outputs": [
    {
     "name": "stdout",
     "output_type": "stream",
     "text": [
      "num players:  42   num values:  42\n",
      "656\n",
      "656\n",
      "656\n"
     ]
    }
   ],
   "source": [
    "serie_a_player_list, serie_a_value_list, serie_a_teams_list = scrape_link(serie_a_links[15], serie_a_player_list, serie_a_value_list, serie_a_teams_list)"
   ]
  },
  {
   "cell_type": "code",
   "execution_count": 168,
   "id": "aa124d6c-2cfb-49b0-ace9-e63fe1966d00",
   "metadata": {},
   "outputs": [
    {
     "name": "stdout",
     "output_type": "stream",
     "text": [
      "num players:  40   num values:  40\n",
      "696\n",
      "696\n",
      "696\n"
     ]
    }
   ],
   "source": [
    "serie_a_player_list, serie_a_value_list, serie_a_teams_list = scrape_link(serie_a_links[16], serie_a_player_list, serie_a_value_list, serie_a_teams_list)"
   ]
  },
  {
   "cell_type": "code",
   "execution_count": 169,
   "id": "4be4dd7b-d3eb-4337-a4ed-58f11bd7692f",
   "metadata": {},
   "outputs": [
    {
     "name": "stdout",
     "output_type": "stream",
     "text": [
      "num players:  36   num values:  36\n",
      "732\n",
      "732\n",
      "732\n"
     ]
    }
   ],
   "source": [
    "serie_a_player_list, serie_a_value_list, serie_a_teams_list = scrape_link(serie_a_links[17], serie_a_player_list, serie_a_value_list, serie_a_teams_list)"
   ]
  },
  {
   "cell_type": "code",
   "execution_count": 170,
   "id": "251ccb38-7b91-4ea0-a8ba-821ad406e2f1",
   "metadata": {},
   "outputs": [
    {
     "name": "stdout",
     "output_type": "stream",
     "text": [
      "num players:  41   num values:  41\n",
      "773\n",
      "773\n",
      "773\n"
     ]
    }
   ],
   "source": [
    "serie_a_player_list, serie_a_value_list, serie_a_teams_list = scrape_link(serie_a_links[18], serie_a_player_list, serie_a_value_list, serie_a_teams_list)"
   ]
  },
  {
   "cell_type": "code",
   "execution_count": 171,
   "id": "9ee4114c-ff86-412b-83fb-ec10686aa9bd",
   "metadata": {},
   "outputs": [
    {
     "name": "stdout",
     "output_type": "stream",
     "text": [
      "num players:  53   num values:  53\n",
      "826\n",
      "826\n",
      "826\n"
     ]
    }
   ],
   "source": [
    "serie_a_player_list, serie_a_value_list, serie_a_teams_list = scrape_link(serie_a_links[19], serie_a_player_list, serie_a_value_list, serie_a_teams_list)"
   ]
  },
  {
   "cell_type": "code",
   "execution_count": 173,
   "id": "cd35d3a9-7b75-4ef4-88aa-af587396712a",
   "metadata": {},
   "outputs": [],
   "source": [
    "serie_a_df = pd.DataFrame({'Players': serie_a_player_list, \"Values\": serie_a_value_list, \"Team\": serie_a_teams_list})\n",
    "serie_a_df.to_csv('serie_a_market_value.csv')"
   ]
  },
  {
   "cell_type": "code",
   "execution_count": 109,
   "id": "0b17f8d2-08b2-49da-89df-71b672282f59",
   "metadata": {},
   "outputs": [
    {
     "name": "stdout",
     "output_type": "stream",
     "text": [
      "num players:  32   num values:  32\n",
      "num players:  41   num values:  41\n",
      "num players:  33   num values:  33\n",
      "num players:  40   num values:  40\n",
      "num players:  43   num values:  43\n",
      "num players:  37   num values:  37\n",
      "num players:  36   num values:  36\n",
      "num players:  34   num values:  34\n",
      "num players:  41   num values:  41\n",
      "num players:  35   num values:  35\n",
      "num players:  43   num values:  43\n",
      "num players:  36   num values:  36\n",
      "num players:  38   num values:  38\n",
      "num players:  34   num values:  34\n",
      "num players:  34   num values:  34\n",
      "num players:  34   num values:  34\n",
      "num players:  32   num values:  32\n",
      "num players:  32   num values:  32\n",
      "num players:  36   num values:  36\n",
      "num players:  37   num values:  37\n",
      "728\n",
      "728\n"
     ]
    }
   ],
   "source": [
    "ligue_1_df = scrape_links(ligue_1_links)"
   ]
  },
  {
   "cell_type": "code",
   "execution_count": 89,
   "id": "6c4410f6-dc5c-45f5-a5ec-95e588fda922",
   "metadata": {},
   "outputs": [
    {
     "data": {
      "text/html": [
       "<div>\n",
       "<style scoped>\n",
       "    .dataframe tbody tr th:only-of-type {\n",
       "        vertical-align: middle;\n",
       "    }\n",
       "\n",
       "    .dataframe tbody tr th {\n",
       "        vertical-align: top;\n",
       "    }\n",
       "\n",
       "    .dataframe thead th {\n",
       "        text-align: right;\n",
       "    }\n",
       "</style>\n",
       "<table border=\"1\" class=\"dataframe\">\n",
       "  <thead>\n",
       "    <tr style=\"text-align: right;\">\n",
       "      <th></th>\n",
       "      <th>Players</th>\n",
       "      <th>Values</th>\n",
       "    </tr>\n",
       "  </thead>\n",
       "  <tbody>\n",
       "    <tr>\n",
       "      <th>0</th>\n",
       "      <td>Manuel Neuer</td>\n",
       "      <td>$19.80m</td>\n",
       "    </tr>\n",
       "    <tr>\n",
       "      <th>1</th>\n",
       "      <td>Alexander Nübel</td>\n",
       "      <td>$6.60m</td>\n",
       "    </tr>\n",
       "    <tr>\n",
       "      <th>2</th>\n",
       "      <td>Sven Ulreich</td>\n",
       "      <td>$990Th.</td>\n",
       "    </tr>\n",
       "    <tr>\n",
       "      <th>3</th>\n",
       "      <td>Ron-Thorben Hoffmann</td>\n",
       "      <td>$660Th.</td>\n",
       "    </tr>\n",
       "    <tr>\n",
       "      <th>4</th>\n",
       "      <td>Lukas Schneller</td>\n",
       "      <td>$220Th.</td>\n",
       "    </tr>\n",
       "    <tr>\n",
       "      <th>...</th>\n",
       "      <td>...</td>\n",
       "      <td>...</td>\n",
       "    </tr>\n",
       "    <tr>\n",
       "      <th>620</th>\n",
       "      <td>Matthew Hoppe</td>\n",
       "      <td>$4.95m</td>\n",
       "    </tr>\n",
       "    <tr>\n",
       "      <th>621</th>\n",
       "      <td>Ahmed Kutucu</td>\n",
       "      <td>$1.87m</td>\n",
       "    </tr>\n",
       "    <tr>\n",
       "      <th>622</th>\n",
       "      <td>Klaas-Jan Huntelaar</td>\n",
       "      <td>$880Th.</td>\n",
       "    </tr>\n",
       "    <tr>\n",
       "      <th>623</th>\n",
       "      <td>Vedad Ibisevic</td>\n",
       "      <td>$550Th.</td>\n",
       "    </tr>\n",
       "    <tr>\n",
       "      <th>624</th>\n",
       "      <td>Luca Schuler</td>\n",
       "      <td>$220Th.</td>\n",
       "    </tr>\n",
       "  </tbody>\n",
       "</table>\n",
       "<p>625 rows × 2 columns</p>\n",
       "</div>"
      ],
      "text/plain": [
       "                  Players     Values\n",
       "0            Manuel Neuer  $19.80m  \n",
       "1         Alexander Nübel   $6.60m  \n",
       "2            Sven Ulreich  $990Th.  \n",
       "3    Ron-Thorben Hoffmann  $660Th.  \n",
       "4         Lukas Schneller  $220Th.  \n",
       "..                    ...        ...\n",
       "620         Matthew Hoppe   $4.95m  \n",
       "621          Ahmed Kutucu   $1.87m  \n",
       "622   Klaas-Jan Huntelaar  $880Th.  \n",
       "623        Vedad Ibisevic  $550Th.  \n",
       "624          Luca Schuler  $220Th.  \n",
       "\n",
       "[625 rows x 2 columns]"
      ]
     },
     "execution_count": 89,
     "metadata": {},
     "output_type": "execute_result"
    }
   ],
   "source": [
    "bundesliga_df"
   ]
  },
  {
   "cell_type": "code",
   "execution_count": 90,
   "id": "2016d034-b743-475b-88b0-3b9de5b930e5",
   "metadata": {},
   "outputs": [
    {
     "data": {
      "text/html": [
       "<div>\n",
       "<style scoped>\n",
       "    .dataframe tbody tr th:only-of-type {\n",
       "        vertical-align: middle;\n",
       "    }\n",
       "\n",
       "    .dataframe tbody tr th {\n",
       "        vertical-align: top;\n",
       "    }\n",
       "\n",
       "    .dataframe thead th {\n",
       "        text-align: right;\n",
       "    }\n",
       "</style>\n",
       "<table border=\"1\" class=\"dataframe\">\n",
       "  <thead>\n",
       "    <tr style=\"text-align: right;\">\n",
       "      <th></th>\n",
       "      <th>Players</th>\n",
       "      <th>Values</th>\n",
       "    </tr>\n",
       "  </thead>\n",
       "  <tbody>\n",
       "    <tr>\n",
       "      <th>0</th>\n",
       "      <td>Ederson</td>\n",
       "      <td>$55.00m</td>\n",
       "    </tr>\n",
       "    <tr>\n",
       "      <th>1</th>\n",
       "      <td>Zack Steffen</td>\n",
       "      <td>$6.60m</td>\n",
       "    </tr>\n",
       "    <tr>\n",
       "      <th>2</th>\n",
       "      <td>Scott Carson</td>\n",
       "      <td>$330Th.</td>\n",
       "    </tr>\n",
       "    <tr>\n",
       "      <th>3</th>\n",
       "      <td>James Trafford</td>\n",
       "      <td>0</td>\n",
       "    </tr>\n",
       "    <tr>\n",
       "      <th>4</th>\n",
       "      <td>Rúben Dias</td>\n",
       "      <td>$82.50m</td>\n",
       "    </tr>\n",
       "    <tr>\n",
       "      <th>...</th>\n",
       "      <td>...</td>\n",
       "      <td>...</td>\n",
       "    </tr>\n",
       "    <tr>\n",
       "      <th>795</th>\n",
       "      <td>Oliver Burke</td>\n",
       "      <td>$6.60m</td>\n",
       "    </tr>\n",
       "    <tr>\n",
       "      <th>796</th>\n",
       "      <td>David McGoldrick</td>\n",
       "      <td>$1.65m</td>\n",
       "    </tr>\n",
       "    <tr>\n",
       "      <th>797</th>\n",
       "      <td>Daniel Jebbison</td>\n",
       "      <td>$1.10m</td>\n",
       "    </tr>\n",
       "    <tr>\n",
       "      <th>798</th>\n",
       "      <td>Billy Sharp</td>\n",
       "      <td>$550Th.</td>\n",
       "    </tr>\n",
       "    <tr>\n",
       "      <th>799</th>\n",
       "      <td>Antwoine Hackford</td>\n",
       "      <td>$110Th.</td>\n",
       "    </tr>\n",
       "  </tbody>\n",
       "</table>\n",
       "<p>800 rows × 2 columns</p>\n",
       "</div>"
      ],
      "text/plain": [
       "               Players     Values\n",
       "0              Ederson  $55.00m  \n",
       "1         Zack Steffen   $6.60m  \n",
       "2         Scott Carson  $330Th.  \n",
       "3       James Trafford          0\n",
       "4           Rúben Dias  $82.50m  \n",
       "..                 ...        ...\n",
       "795       Oliver Burke   $6.60m  \n",
       "796   David McGoldrick   $1.65m  \n",
       "797    Daniel Jebbison   $1.10m  \n",
       "798        Billy Sharp  $550Th.  \n",
       "799  Antwoine Hackford  $110Th.  \n",
       "\n",
       "[800 rows x 2 columns]"
      ]
     },
     "execution_count": 90,
     "metadata": {},
     "output_type": "execute_result"
    }
   ],
   "source": [
    "premier_league_df"
   ]
  },
  {
   "cell_type": "code",
   "execution_count": 91,
   "id": "d4b13a04-e8ac-4feb-a2ce-25a88c54d9e9",
   "metadata": {},
   "outputs": [
    {
     "data": {
      "text/html": [
       "<div>\n",
       "<style scoped>\n",
       "    .dataframe tbody tr th:only-of-type {\n",
       "        vertical-align: middle;\n",
       "    }\n",
       "\n",
       "    .dataframe tbody tr th {\n",
       "        vertical-align: top;\n",
       "    }\n",
       "\n",
       "    .dataframe thead th {\n",
       "        text-align: right;\n",
       "    }\n",
       "</style>\n",
       "<table border=\"1\" class=\"dataframe\">\n",
       "  <thead>\n",
       "    <tr style=\"text-align: right;\">\n",
       "      <th></th>\n",
       "      <th>Players</th>\n",
       "      <th>Values</th>\n",
       "    </tr>\n",
       "  </thead>\n",
       "  <tbody>\n",
       "    <tr>\n",
       "      <th>0</th>\n",
       "      <td>Mike Maignan</td>\n",
       "      <td>$27.50m</td>\n",
       "    </tr>\n",
       "    <tr>\n",
       "      <th>1</th>\n",
       "      <td>Orestis Karnezis</td>\n",
       "      <td>$550Th.</td>\n",
       "    </tr>\n",
       "    <tr>\n",
       "      <th>2</th>\n",
       "      <td>Lucas Chevalier</td>\n",
       "      <td>$550Th.</td>\n",
       "    </tr>\n",
       "    <tr>\n",
       "      <th>3</th>\n",
       "      <td>Sven Botman</td>\n",
       "      <td>$30.80m</td>\n",
       "    </tr>\n",
       "    <tr>\n",
       "      <th>4</th>\n",
       "      <td>Tiago Djaló</td>\n",
       "      <td>$5.50m</td>\n",
       "    </tr>\n",
       "    <tr>\n",
       "      <th>...</th>\n",
       "      <td>...</td>\n",
       "      <td>...</td>\n",
       "    </tr>\n",
       "    <tr>\n",
       "      <th>723</th>\n",
       "      <td>Roger Assalé</td>\n",
       "      <td>$2.75m</td>\n",
       "    </tr>\n",
       "    <tr>\n",
       "      <th>724</th>\n",
       "      <td>Aboubakar Kamara</td>\n",
       "      <td>$2.20m</td>\n",
       "    </tr>\n",
       "    <tr>\n",
       "      <th>725</th>\n",
       "      <td>Aurélien Scheidler</td>\n",
       "      <td>$1.10m</td>\n",
       "    </tr>\n",
       "    <tr>\n",
       "      <th>726</th>\n",
       "      <td>Rayan Philippe</td>\n",
       "      <td>$770Th.</td>\n",
       "    </tr>\n",
       "    <tr>\n",
       "      <th>727</th>\n",
       "      <td>Jacques Siwe</td>\n",
       "      <td>$440Th.</td>\n",
       "    </tr>\n",
       "  </tbody>\n",
       "</table>\n",
       "<p>728 rows × 2 columns</p>\n",
       "</div>"
      ],
      "text/plain": [
       "                Players     Values\n",
       "0          Mike Maignan  $27.50m  \n",
       "1      Orestis Karnezis  $550Th.  \n",
       "2       Lucas Chevalier  $550Th.  \n",
       "3           Sven Botman  $30.80m  \n",
       "4           Tiago Djaló   $5.50m  \n",
       "..                  ...        ...\n",
       "723        Roger Assalé   $2.75m  \n",
       "724    Aboubakar Kamara   $2.20m  \n",
       "725  Aurélien Scheidler   $1.10m  \n",
       "726      Rayan Philippe  $770Th.  \n",
       "727        Jacques Siwe  $440Th.  \n",
       "\n",
       "[728 rows x 2 columns]"
      ]
     },
     "execution_count": 91,
     "metadata": {},
     "output_type": "execute_result"
    }
   ],
   "source": [
    "ligue_1_df"
   ]
  },
  {
   "cell_type": "code",
   "execution_count": 110,
   "id": "272bc84f-24d2-4954-afa8-e4978395561b",
   "metadata": {},
   "outputs": [],
   "source": [
    "premier_league_df.to_csv('premier_league_market_value.csv')\n",
    "bundesliga_df.to_csv('bundesliga_market_value.csv')\n",
    "ligue_1_df.to_csv('ligue_1_market_value.csv')"
   ]
  },
  {
   "cell_type": "code",
   "execution_count": 174,
   "id": "7202941f-211a-4737-952a-6df6c0b2769d",
   "metadata": {},
   "outputs": [
    {
     "data": {
      "text/html": [
       "<div>\n",
       "<style scoped>\n",
       "    .dataframe tbody tr th:only-of-type {\n",
       "        vertical-align: middle;\n",
       "    }\n",
       "\n",
       "    .dataframe tbody tr th {\n",
       "        vertical-align: top;\n",
       "    }\n",
       "\n",
       "    .dataframe thead th {\n",
       "        text-align: right;\n",
       "    }\n",
       "</style>\n",
       "<table border=\"1\" class=\"dataframe\">\n",
       "  <thead>\n",
       "    <tr style=\"text-align: right;\">\n",
       "      <th></th>\n",
       "      <th>Players</th>\n",
       "      <th>Values</th>\n",
       "      <th>Team</th>\n",
       "    </tr>\n",
       "  </thead>\n",
       "  <tbody>\n",
       "    <tr>\n",
       "      <th>0</th>\n",
       "      <td>Ederson</td>\n",
       "      <td>$55.00m</td>\n",
       "      <td>manchester city</td>\n",
       "    </tr>\n",
       "    <tr>\n",
       "      <th>1</th>\n",
       "      <td>Zack Steffen</td>\n",
       "      <td>$6.60m</td>\n",
       "      <td>manchester city</td>\n",
       "    </tr>\n",
       "    <tr>\n",
       "      <th>2</th>\n",
       "      <td>Scott Carson</td>\n",
       "      <td>$330Th.</td>\n",
       "      <td>manchester city</td>\n",
       "    </tr>\n",
       "    <tr>\n",
       "      <th>3</th>\n",
       "      <td>James Trafford</td>\n",
       "      <td>0</td>\n",
       "      <td>manchester city</td>\n",
       "    </tr>\n",
       "    <tr>\n",
       "      <th>4</th>\n",
       "      <td>Rúben Dias</td>\n",
       "      <td>$82.50m</td>\n",
       "      <td>manchester city</td>\n",
       "    </tr>\n",
       "    <tr>\n",
       "      <th>...</th>\n",
       "      <td>...</td>\n",
       "      <td>...</td>\n",
       "      <td>...</td>\n",
       "    </tr>\n",
       "    <tr>\n",
       "      <th>795</th>\n",
       "      <td>Oliver Burke</td>\n",
       "      <td>$6.60m</td>\n",
       "      <td>sheffield united</td>\n",
       "    </tr>\n",
       "    <tr>\n",
       "      <th>796</th>\n",
       "      <td>David McGoldrick</td>\n",
       "      <td>$1.65m</td>\n",
       "      <td>sheffield united</td>\n",
       "    </tr>\n",
       "    <tr>\n",
       "      <th>797</th>\n",
       "      <td>Daniel Jebbison</td>\n",
       "      <td>$1.10m</td>\n",
       "      <td>sheffield united</td>\n",
       "    </tr>\n",
       "    <tr>\n",
       "      <th>798</th>\n",
       "      <td>Billy Sharp</td>\n",
       "      <td>$550Th.</td>\n",
       "      <td>sheffield united</td>\n",
       "    </tr>\n",
       "    <tr>\n",
       "      <th>799</th>\n",
       "      <td>Antwoine Hackford</td>\n",
       "      <td>$110Th.</td>\n",
       "      <td>sheffield united</td>\n",
       "    </tr>\n",
       "  </tbody>\n",
       "</table>\n",
       "<p>800 rows × 3 columns</p>\n",
       "</div>"
      ],
      "text/plain": [
       "               Players     Values              Team\n",
       "0              Ederson  $55.00m     manchester city\n",
       "1         Zack Steffen   $6.60m     manchester city\n",
       "2         Scott Carson  $330Th.     manchester city\n",
       "3       James Trafford          0   manchester city\n",
       "4           Rúben Dias  $82.50m     manchester city\n",
       "..                 ...        ...               ...\n",
       "795       Oliver Burke   $6.60m    sheffield united\n",
       "796   David McGoldrick   $1.65m    sheffield united\n",
       "797    Daniel Jebbison   $1.10m    sheffield united\n",
       "798        Billy Sharp  $550Th.    sheffield united\n",
       "799  Antwoine Hackford  $110Th.    sheffield united\n",
       "\n",
       "[800 rows x 3 columns]"
      ]
     },
     "execution_count": 174,
     "metadata": {},
     "output_type": "execute_result"
    }
   ],
   "source": [
    "premier_league_df"
   ]
  },
  {
   "cell_type": "code",
   "execution_count": 175,
   "id": "64993e12-e294-4038-bd2c-c52a10759466",
   "metadata": {},
   "outputs": [
    {
     "data": {
      "text/html": [
       "<div>\n",
       "<style scoped>\n",
       "    .dataframe tbody tr th:only-of-type {\n",
       "        vertical-align: middle;\n",
       "    }\n",
       "\n",
       "    .dataframe tbody tr th {\n",
       "        vertical-align: top;\n",
       "    }\n",
       "\n",
       "    .dataframe thead th {\n",
       "        text-align: right;\n",
       "    }\n",
       "</style>\n",
       "<table border=\"1\" class=\"dataframe\">\n",
       "  <thead>\n",
       "    <tr style=\"text-align: right;\">\n",
       "      <th></th>\n",
       "      <th>Players</th>\n",
       "      <th>Values</th>\n",
       "      <th>Team</th>\n",
       "    </tr>\n",
       "  </thead>\n",
       "  <tbody>\n",
       "    <tr>\n",
       "      <th>0</th>\n",
       "      <td>Jan Oblak</td>\n",
       "      <td>$77.00m</td>\n",
       "      <td>atletico de madrid</td>\n",
       "    </tr>\n",
       "    <tr>\n",
       "      <th>1</th>\n",
       "      <td>Ivo Grbic</td>\n",
       "      <td>$3.85m</td>\n",
       "      <td>atletico de madrid</td>\n",
       "    </tr>\n",
       "    <tr>\n",
       "      <th>2</th>\n",
       "      <td>Miguel San Román</td>\n",
       "      <td>$770Th.</td>\n",
       "      <td>atletico de madrid</td>\n",
       "    </tr>\n",
       "    <tr>\n",
       "      <th>3</th>\n",
       "      <td>José María Giménez</td>\n",
       "      <td>$66.00m</td>\n",
       "      <td>atletico de madrid</td>\n",
       "    </tr>\n",
       "    <tr>\n",
       "      <th>4</th>\n",
       "      <td>Mario Hermoso</td>\n",
       "      <td>$38.50m</td>\n",
       "      <td>atletico de madrid</td>\n",
       "    </tr>\n",
       "    <tr>\n",
       "      <th>...</th>\n",
       "      <td>...</td>\n",
       "      <td>...</td>\n",
       "      <td>...</td>\n",
       "    </tr>\n",
       "    <tr>\n",
       "      <th>728</th>\n",
       "      <td>Kike García</td>\n",
       "      <td>$3.08m</td>\n",
       "      <td>sd eibar</td>\n",
       "    </tr>\n",
       "    <tr>\n",
       "      <th>729</th>\n",
       "      <td>Yoshinori Muto</td>\n",
       "      <td>$2.75m</td>\n",
       "      <td>sd eibar</td>\n",
       "    </tr>\n",
       "    <tr>\n",
       "      <th>730</th>\n",
       "      <td>Sergi Enrich</td>\n",
       "      <td>$1.98m</td>\n",
       "      <td>sd eibar</td>\n",
       "    </tr>\n",
       "    <tr>\n",
       "      <th>731</th>\n",
       "      <td>Quique González</td>\n",
       "      <td>$880Th.</td>\n",
       "      <td>sd eibar</td>\n",
       "    </tr>\n",
       "    <tr>\n",
       "      <th>732</th>\n",
       "      <td>Unai Arieta</td>\n",
       "      <td>0</td>\n",
       "      <td>sd eibar</td>\n",
       "    </tr>\n",
       "  </tbody>\n",
       "</table>\n",
       "<p>733 rows × 3 columns</p>\n",
       "</div>"
      ],
      "text/plain": [
       "                Players     Values                Team\n",
       "0             Jan Oblak  $77.00m    atletico de madrid\n",
       "1             Ivo Grbic   $3.85m    atletico de madrid\n",
       "2      Miguel San Román  $770Th.    atletico de madrid\n",
       "3    José María Giménez  $66.00m    atletico de madrid\n",
       "4         Mario Hermoso  $38.50m    atletico de madrid\n",
       "..                  ...        ...                 ...\n",
       "728         Kike García   $3.08m              sd eibar\n",
       "729      Yoshinori Muto   $2.75m              sd eibar\n",
       "730        Sergi Enrich   $1.98m              sd eibar\n",
       "731     Quique González  $880Th.              sd eibar\n",
       "732         Unai Arieta          0            sd eibar\n",
       "\n",
       "[733 rows x 3 columns]"
      ]
     },
     "execution_count": 175,
     "metadata": {},
     "output_type": "execute_result"
    }
   ],
   "source": [
    "la_liga_df"
   ]
  },
  {
   "cell_type": "code",
   "execution_count": 176,
   "id": "99bcf552-de17-4ea0-a863-6f911e2e336f",
   "metadata": {},
   "outputs": [
    {
     "data": {
      "text/html": [
       "<div>\n",
       "<style scoped>\n",
       "    .dataframe tbody tr th:only-of-type {\n",
       "        vertical-align: middle;\n",
       "    }\n",
       "\n",
       "    .dataframe tbody tr th {\n",
       "        vertical-align: top;\n",
       "    }\n",
       "\n",
       "    .dataframe thead th {\n",
       "        text-align: right;\n",
       "    }\n",
       "</style>\n",
       "<table border=\"1\" class=\"dataframe\">\n",
       "  <thead>\n",
       "    <tr style=\"text-align: right;\">\n",
       "      <th></th>\n",
       "      <th>Players</th>\n",
       "      <th>Values</th>\n",
       "      <th>Team</th>\n",
       "    </tr>\n",
       "  </thead>\n",
       "  <tbody>\n",
       "    <tr>\n",
       "      <th>0</th>\n",
       "      <td>Manuel Neuer</td>\n",
       "      <td>$19.80m</td>\n",
       "      <td>bayern munich</td>\n",
       "    </tr>\n",
       "    <tr>\n",
       "      <th>1</th>\n",
       "      <td>Alexander Nübel</td>\n",
       "      <td>$6.60m</td>\n",
       "      <td>bayern munich</td>\n",
       "    </tr>\n",
       "    <tr>\n",
       "      <th>2</th>\n",
       "      <td>Sven Ulreich</td>\n",
       "      <td>$990Th.</td>\n",
       "      <td>bayern munich</td>\n",
       "    </tr>\n",
       "    <tr>\n",
       "      <th>3</th>\n",
       "      <td>Ron-Thorben Hoffmann</td>\n",
       "      <td>$660Th.</td>\n",
       "      <td>bayern munich</td>\n",
       "    </tr>\n",
       "    <tr>\n",
       "      <th>4</th>\n",
       "      <td>Lukas Schneller</td>\n",
       "      <td>$220Th.</td>\n",
       "      <td>bayern munich</td>\n",
       "    </tr>\n",
       "    <tr>\n",
       "      <th>...</th>\n",
       "      <td>...</td>\n",
       "      <td>...</td>\n",
       "      <td>...</td>\n",
       "    </tr>\n",
       "    <tr>\n",
       "      <th>620</th>\n",
       "      <td>Matthew Hoppe</td>\n",
       "      <td>$4.95m</td>\n",
       "      <td>fc schalke 04</td>\n",
       "    </tr>\n",
       "    <tr>\n",
       "      <th>621</th>\n",
       "      <td>Ahmed Kutucu</td>\n",
       "      <td>$1.87m</td>\n",
       "      <td>fc schalke 04</td>\n",
       "    </tr>\n",
       "    <tr>\n",
       "      <th>622</th>\n",
       "      <td>Klaas-Jan Huntelaar</td>\n",
       "      <td>$880Th.</td>\n",
       "      <td>fc schalke 04</td>\n",
       "    </tr>\n",
       "    <tr>\n",
       "      <th>623</th>\n",
       "      <td>Vedad Ibisevic</td>\n",
       "      <td>$550Th.</td>\n",
       "      <td>fc schalke 04</td>\n",
       "    </tr>\n",
       "    <tr>\n",
       "      <th>624</th>\n",
       "      <td>Luca Schuler</td>\n",
       "      <td>$220Th.</td>\n",
       "      <td>fc schalke 04</td>\n",
       "    </tr>\n",
       "  </tbody>\n",
       "</table>\n",
       "<p>625 rows × 3 columns</p>\n",
       "</div>"
      ],
      "text/plain": [
       "                  Players     Values           Team\n",
       "0            Manuel Neuer  $19.80m    bayern munich\n",
       "1         Alexander Nübel   $6.60m    bayern munich\n",
       "2            Sven Ulreich  $990Th.    bayern munich\n",
       "3    Ron-Thorben Hoffmann  $660Th.    bayern munich\n",
       "4         Lukas Schneller  $220Th.    bayern munich\n",
       "..                    ...        ...            ...\n",
       "620         Matthew Hoppe   $4.95m    fc schalke 04\n",
       "621          Ahmed Kutucu   $1.87m    fc schalke 04\n",
       "622   Klaas-Jan Huntelaar  $880Th.    fc schalke 04\n",
       "623        Vedad Ibisevic  $550Th.    fc schalke 04\n",
       "624          Luca Schuler  $220Th.    fc schalke 04\n",
       "\n",
       "[625 rows x 3 columns]"
      ]
     },
     "execution_count": 176,
     "metadata": {},
     "output_type": "execute_result"
    }
   ],
   "source": [
    "bundesliga_df"
   ]
  },
  {
   "cell_type": "code",
   "execution_count": 177,
   "id": "7ef4ec7d-b447-4ee9-a2a6-04981052b88f",
   "metadata": {},
   "outputs": [
    {
     "data": {
      "text/html": [
       "<div>\n",
       "<style scoped>\n",
       "    .dataframe tbody tr th:only-of-type {\n",
       "        vertical-align: middle;\n",
       "    }\n",
       "\n",
       "    .dataframe tbody tr th {\n",
       "        vertical-align: top;\n",
       "    }\n",
       "\n",
       "    .dataframe thead th {\n",
       "        text-align: right;\n",
       "    }\n",
       "</style>\n",
       "<table border=\"1\" class=\"dataframe\">\n",
       "  <thead>\n",
       "    <tr style=\"text-align: right;\">\n",
       "      <th></th>\n",
       "      <th>Players</th>\n",
       "      <th>Values</th>\n",
       "      <th>Team</th>\n",
       "    </tr>\n",
       "  </thead>\n",
       "  <tbody>\n",
       "    <tr>\n",
       "      <th>0</th>\n",
       "      <td>Ionut Radu</td>\n",
       "      <td>$6.60m</td>\n",
       "      <td>inter milan</td>\n",
       "    </tr>\n",
       "    <tr>\n",
       "      <th>1</th>\n",
       "      <td>Samir Handanovic</td>\n",
       "      <td>$2.75m</td>\n",
       "      <td>inter milan</td>\n",
       "    </tr>\n",
       "    <tr>\n",
       "      <th>2</th>\n",
       "      <td>Filip Stankovic</td>\n",
       "      <td>$550Th.</td>\n",
       "      <td>inter milan</td>\n",
       "    </tr>\n",
       "    <tr>\n",
       "      <th>3</th>\n",
       "      <td>Daniele Padelli</td>\n",
       "      <td>$440Th.</td>\n",
       "      <td>inter milan</td>\n",
       "    </tr>\n",
       "    <tr>\n",
       "      <th>4</th>\n",
       "      <td>Milan Skriniar</td>\n",
       "      <td>$66.00m</td>\n",
       "      <td>inter milan</td>\n",
       "    </tr>\n",
       "    <tr>\n",
       "      <th>...</th>\n",
       "      <td>...</td>\n",
       "      <td>...</td>\n",
       "      <td>...</td>\n",
       "    </tr>\n",
       "    <tr>\n",
       "      <th>821</th>\n",
       "      <td>Andreas Cornelius</td>\n",
       "      <td>$6.60m</td>\n",
       "      <td>parma calcio 1913</td>\n",
       "    </tr>\n",
       "    <tr>\n",
       "      <th>822</th>\n",
       "      <td>Roberto Inglese</td>\n",
       "      <td>$6.60m</td>\n",
       "      <td>parma calcio 1913</td>\n",
       "    </tr>\n",
       "    <tr>\n",
       "      <th>823</th>\n",
       "      <td>Graziano Pellè</td>\n",
       "      <td>$660Th.</td>\n",
       "      <td>parma calcio 1913</td>\n",
       "    </tr>\n",
       "    <tr>\n",
       "      <th>824</th>\n",
       "      <td>Andrea Adorante</td>\n",
       "      <td>$440Th.</td>\n",
       "      <td>parma calcio 1913</td>\n",
       "    </tr>\n",
       "    <tr>\n",
       "      <th>825</th>\n",
       "      <td>Gabriele Artistico</td>\n",
       "      <td>$110Th.</td>\n",
       "      <td>parma calcio 1913</td>\n",
       "    </tr>\n",
       "  </tbody>\n",
       "</table>\n",
       "<p>826 rows × 3 columns</p>\n",
       "</div>"
      ],
      "text/plain": [
       "                Players     Values               Team\n",
       "0            Ionut Radu   $6.60m          inter milan\n",
       "1      Samir Handanovic   $2.75m          inter milan\n",
       "2       Filip Stankovic  $550Th.          inter milan\n",
       "3       Daniele Padelli  $440Th.          inter milan\n",
       "4        Milan Skriniar  $66.00m          inter milan\n",
       "..                  ...        ...                ...\n",
       "821   Andreas Cornelius   $6.60m    parma calcio 1913\n",
       "822     Roberto Inglese   $6.60m    parma calcio 1913\n",
       "823      Graziano Pellè  $660Th.    parma calcio 1913\n",
       "824     Andrea Adorante  $440Th.    parma calcio 1913\n",
       "825  Gabriele Artistico  $110Th.    parma calcio 1913\n",
       "\n",
       "[826 rows x 3 columns]"
      ]
     },
     "execution_count": 177,
     "metadata": {},
     "output_type": "execute_result"
    }
   ],
   "source": [
    "serie_a_df"
   ]
  },
  {
   "cell_type": "code",
   "execution_count": 178,
   "id": "c680a1c1-5ac2-418b-84e6-b636cae8bb0c",
   "metadata": {},
   "outputs": [
    {
     "data": {
      "text/html": [
       "<div>\n",
       "<style scoped>\n",
       "    .dataframe tbody tr th:only-of-type {\n",
       "        vertical-align: middle;\n",
       "    }\n",
       "\n",
       "    .dataframe tbody tr th {\n",
       "        vertical-align: top;\n",
       "    }\n",
       "\n",
       "    .dataframe thead th {\n",
       "        text-align: right;\n",
       "    }\n",
       "</style>\n",
       "<table border=\"1\" class=\"dataframe\">\n",
       "  <thead>\n",
       "    <tr style=\"text-align: right;\">\n",
       "      <th></th>\n",
       "      <th>Players</th>\n",
       "      <th>Values</th>\n",
       "      <th>Team</th>\n",
       "    </tr>\n",
       "  </thead>\n",
       "  <tbody>\n",
       "    <tr>\n",
       "      <th>0</th>\n",
       "      <td>Mike Maignan</td>\n",
       "      <td>$27.50m</td>\n",
       "      <td>losc lille</td>\n",
       "    </tr>\n",
       "    <tr>\n",
       "      <th>1</th>\n",
       "      <td>Orestis Karnezis</td>\n",
       "      <td>$550Th.</td>\n",
       "      <td>losc lille</td>\n",
       "    </tr>\n",
       "    <tr>\n",
       "      <th>2</th>\n",
       "      <td>Lucas Chevalier</td>\n",
       "      <td>$550Th.</td>\n",
       "      <td>losc lille</td>\n",
       "    </tr>\n",
       "    <tr>\n",
       "      <th>3</th>\n",
       "      <td>Sven Botman</td>\n",
       "      <td>$30.80m</td>\n",
       "      <td>losc lille</td>\n",
       "    </tr>\n",
       "    <tr>\n",
       "      <th>4</th>\n",
       "      <td>Tiago Djaló</td>\n",
       "      <td>$5.50m</td>\n",
       "      <td>losc lille</td>\n",
       "    </tr>\n",
       "    <tr>\n",
       "      <th>...</th>\n",
       "      <td>...</td>\n",
       "      <td>...</td>\n",
       "      <td>...</td>\n",
       "    </tr>\n",
       "    <tr>\n",
       "      <th>723</th>\n",
       "      <td>Roger Assalé</td>\n",
       "      <td>$2.75m</td>\n",
       "      <td>dijon fco</td>\n",
       "    </tr>\n",
       "    <tr>\n",
       "      <th>724</th>\n",
       "      <td>Aboubakar Kamara</td>\n",
       "      <td>$2.20m</td>\n",
       "      <td>dijon fco</td>\n",
       "    </tr>\n",
       "    <tr>\n",
       "      <th>725</th>\n",
       "      <td>Aurélien Scheidler</td>\n",
       "      <td>$1.10m</td>\n",
       "      <td>dijon fco</td>\n",
       "    </tr>\n",
       "    <tr>\n",
       "      <th>726</th>\n",
       "      <td>Rayan Philippe</td>\n",
       "      <td>$770Th.</td>\n",
       "      <td>dijon fco</td>\n",
       "    </tr>\n",
       "    <tr>\n",
       "      <th>727</th>\n",
       "      <td>Jacques Siwe</td>\n",
       "      <td>$440Th.</td>\n",
       "      <td>dijon fco</td>\n",
       "    </tr>\n",
       "  </tbody>\n",
       "</table>\n",
       "<p>728 rows × 3 columns</p>\n",
       "</div>"
      ],
      "text/plain": [
       "                Players     Values        Team\n",
       "0          Mike Maignan  $27.50m    losc lille\n",
       "1      Orestis Karnezis  $550Th.    losc lille\n",
       "2       Lucas Chevalier  $550Th.    losc lille\n",
       "3           Sven Botman  $30.80m    losc lille\n",
       "4           Tiago Djaló   $5.50m    losc lille\n",
       "..                  ...        ...         ...\n",
       "723        Roger Assalé   $2.75m     dijon fco\n",
       "724    Aboubakar Kamara   $2.20m     dijon fco\n",
       "725  Aurélien Scheidler   $1.10m     dijon fco\n",
       "726      Rayan Philippe  $770Th.     dijon fco\n",
       "727        Jacques Siwe  $440Th.     dijon fco\n",
       "\n",
       "[728 rows x 3 columns]"
      ]
     },
     "execution_count": 178,
     "metadata": {},
     "output_type": "execute_result"
    }
   ],
   "source": [
    "ligue_1_df"
   ]
  },
  {
   "cell_type": "code",
   "execution_count": null,
   "id": "ac7fa048-4264-42cb-8475-593ab49210ef",
   "metadata": {},
   "outputs": [],
   "source": []
  }
 ],
 "metadata": {
  "kernelspec": {
   "display_name": "Python 3 (ipykernel)",
   "language": "python",
   "name": "python3"
  },
  "language_info": {
   "codemirror_mode": {
    "name": "ipython",
    "version": 3
   },
   "file_extension": ".py",
   "mimetype": "text/x-python",
   "name": "python",
   "nbconvert_exporter": "python",
   "pygments_lexer": "ipython3",
   "version": "3.9.6"
  }
 },
 "nbformat": 4,
 "nbformat_minor": 5
}
